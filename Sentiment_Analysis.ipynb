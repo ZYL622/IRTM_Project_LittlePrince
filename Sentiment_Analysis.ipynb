{
  "nbformat": 4,
  "nbformat_minor": 0,
  "metadata": {
    "colab": {
      "provenance": []
    },
    "kernelspec": {
      "name": "python3",
      "display_name": "Python 3"
    },
    "language_info": {
      "name": "python"
    }
  },
  "cells": [
    {
      "cell_type": "code",
      "source": [
        "# import libraries\n",
        "import pandas as pd\n",
        "\n",
        "import nltk\n",
        "\n",
        "from nltk.sentiment.vader import SentimentIntensityAnalyzer\n",
        "\n",
        "from nltk.corpus import stopwords\n",
        "\n",
        "from nltk.tokenize import word_tokenize\n",
        "\n",
        "from nltk.stem import WordNetLemmatizer"
      ],
      "metadata": {
        "id": "wtHQwEKr236N"
      },
      "execution_count": 1,
      "outputs": []
    },
    {
      "cell_type": "code",
      "source": [
        "nltk.download('all')"
      ],
      "metadata": {
        "id": "9iwhVefNmN13"
      },
      "execution_count": null,
      "outputs": []
    },
    {
      "cell_type": "code",
      "source": [
        "# create preprocess_text function\n",
        "def preprocess_text(text):\n",
        "\n",
        "    # Tokenize the text\n",
        "\n",
        "    tokens = word_tokenize(text.lower())\n",
        "\n",
        "\n",
        "    # Remove stop words\n",
        "\n",
        "    filtered_tokens = [token for token in tokens if token not in stopwords.words('english')]\n",
        "\n",
        "\n",
        "    # Lemmatize the tokens\n",
        "\n",
        "    lemmatizer = WordNetLemmatizer()\n",
        "\n",
        "    lemmatized_tokens = [lemmatizer.lemmatize(token) for token in filtered_tokens]\n",
        "\n",
        "\n",
        "    # Join the tokens back into a string\n",
        "\n",
        "    processed_text = ' '.join(lemmatized_tokens)\n",
        "\n",
        "    return processed_text"
      ],
      "metadata": {
        "id": "JDVO2Fld2_lH"
      },
      "execution_count": 6,
      "outputs": []
    },
    {
      "cell_type": "markdown",
      "source": [
        "# Sentiment Analysis"
      ],
      "metadata": {
        "id": "BWrxF29P7-M2"
      }
    },
    {
      "cell_type": "code",
      "source": [
        "!pip install transformers"
      ],
      "metadata": {
        "id": "CS-hw6wB_wS5"
      },
      "execution_count": null,
      "outputs": []
    },
    {
      "cell_type": "markdown",
      "source": [
        "## Prepare data"
      ],
      "metadata": {
        "id": "CqtVWhTpIBb3"
      }
    },
    {
      "cell_type": "code",
      "source": [
        "file = 'The Little Prince.txt'\n",
        "docs = []\n",
        "last = 0\n",
        "with open(file, \"r\", encoding=\"utf-8\") as file1:\n",
        "    FileContent = file1.read()\n",
        "    FileContent = FileContent.lower() # lowercase\n",
        "    for i in range(len(FileContent)):\n",
        "      if FileContent[i] in ['.', '?', '!'] and FileContent[i+1] == ' ':\n",
        "        docs.append(preprocess_text(FileContent[last:i+1])) \n",
        "        last = i+1"
      ],
      "metadata": {
        "id": "Qt2KeS0w7-f5"
      },
      "execution_count": 129,
      "outputs": []
    },
    {
      "cell_type": "code",
      "source": [
        "docs[0],docs[1],docs[2],docs[3],docs[4]"
      ],
      "metadata": {
        "colab": {
          "base_uri": "https://localhost:8080/"
        },
        "id": "jTpMR0XaxFA6",
        "outputId": "7960a2cc-39a9-4974-d666-89390c21079d"
      },
      "execution_count": 10,
      "outputs": [
        {
          "output_type": "execute_result",
          "data": {
            "text/plain": [
              "('little prince chapter 1 six year old spotted magnificent picture book ancient forest .',\n",
              " 'picture showed boa constrictor act swallowing wild beast .',\n",
              " 'looked like : said book : ‘ boa constrictor swallow prey whole , without chewing .',\n",
              " ', unable move sleep next six month – needed digestion. ’ thought deeply experience forest .',\n",
              " ', care coloured pencil , succeeded making first drawing .')"
            ]
          },
          "metadata": {},
          "execution_count": 10
        }
      ]
    },
    {
      "cell_type": "code",
      "source": [
        "df_docs = pd.DataFrame(docs, columns=['text'])\n",
        "df_docs.head()"
      ],
      "metadata": {
        "colab": {
          "base_uri": "https://localhost:8080/",
          "height": 206
        },
        "id": "aPjTLpme7_MH",
        "outputId": "e482d432-b76d-4a1c-8c96-490bd7ad175b"
      },
      "execution_count": 130,
      "outputs": [
        {
          "output_type": "execute_result",
          "data": {
            "text/plain": [
              "                                                text\n",
              "0  little prince chapter 1 six year old spotted m...\n",
              "1  picture showed boa constrictor act swallowing ...\n",
              "2  looked like : said book : ‘ boa constrictor sw...\n",
              "3  , unable move sleep next six month – needed di...\n",
              "4  , care coloured pencil , succeeded making firs..."
            ],
            "text/html": [
              "\n",
              "  <div id=\"df-54739873-4c08-46cb-b375-5064b722a032\">\n",
              "    <div class=\"colab-df-container\">\n",
              "      <div>\n",
              "<style scoped>\n",
              "    .dataframe tbody tr th:only-of-type {\n",
              "        vertical-align: middle;\n",
              "    }\n",
              "\n",
              "    .dataframe tbody tr th {\n",
              "        vertical-align: top;\n",
              "    }\n",
              "\n",
              "    .dataframe thead th {\n",
              "        text-align: right;\n",
              "    }\n",
              "</style>\n",
              "<table border=\"1\" class=\"dataframe\">\n",
              "  <thead>\n",
              "    <tr style=\"text-align: right;\">\n",
              "      <th></th>\n",
              "      <th>text</th>\n",
              "    </tr>\n",
              "  </thead>\n",
              "  <tbody>\n",
              "    <tr>\n",
              "      <th>0</th>\n",
              "      <td>little prince chapter 1 six year old spotted m...</td>\n",
              "    </tr>\n",
              "    <tr>\n",
              "      <th>1</th>\n",
              "      <td>picture showed boa constrictor act swallowing ...</td>\n",
              "    </tr>\n",
              "    <tr>\n",
              "      <th>2</th>\n",
              "      <td>looked like : said book : ‘ boa constrictor sw...</td>\n",
              "    </tr>\n",
              "    <tr>\n",
              "      <th>3</th>\n",
              "      <td>, unable move sleep next six month – needed di...</td>\n",
              "    </tr>\n",
              "    <tr>\n",
              "      <th>4</th>\n",
              "      <td>, care coloured pencil , succeeded making firs...</td>\n",
              "    </tr>\n",
              "  </tbody>\n",
              "</table>\n",
              "</div>\n",
              "      <button class=\"colab-df-convert\" onclick=\"convertToInteractive('df-54739873-4c08-46cb-b375-5064b722a032')\"\n",
              "              title=\"Convert this dataframe to an interactive table.\"\n",
              "              style=\"display:none;\">\n",
              "        \n",
              "  <svg xmlns=\"http://www.w3.org/2000/svg\" height=\"24px\"viewBox=\"0 0 24 24\"\n",
              "       width=\"24px\">\n",
              "    <path d=\"M0 0h24v24H0V0z\" fill=\"none\"/>\n",
              "    <path d=\"M18.56 5.44l.94 2.06.94-2.06 2.06-.94-2.06-.94-.94-2.06-.94 2.06-2.06.94zm-11 1L8.5 8.5l.94-2.06 2.06-.94-2.06-.94L8.5 2.5l-.94 2.06-2.06.94zm10 10l.94 2.06.94-2.06 2.06-.94-2.06-.94-.94-2.06-.94 2.06-2.06.94z\"/><path d=\"M17.41 7.96l-1.37-1.37c-.4-.4-.92-.59-1.43-.59-.52 0-1.04.2-1.43.59L10.3 9.45l-7.72 7.72c-.78.78-.78 2.05 0 2.83L4 21.41c.39.39.9.59 1.41.59.51 0 1.02-.2 1.41-.59l7.78-7.78 2.81-2.81c.8-.78.8-2.07 0-2.86zM5.41 20L4 18.59l7.72-7.72 1.47 1.35L5.41 20z\"/>\n",
              "  </svg>\n",
              "      </button>\n",
              "      \n",
              "  <style>\n",
              "    .colab-df-container {\n",
              "      display:flex;\n",
              "      flex-wrap:wrap;\n",
              "      gap: 12px;\n",
              "    }\n",
              "\n",
              "    .colab-df-convert {\n",
              "      background-color: #E8F0FE;\n",
              "      border: none;\n",
              "      border-radius: 50%;\n",
              "      cursor: pointer;\n",
              "      display: none;\n",
              "      fill: #1967D2;\n",
              "      height: 32px;\n",
              "      padding: 0 0 0 0;\n",
              "      width: 32px;\n",
              "    }\n",
              "\n",
              "    .colab-df-convert:hover {\n",
              "      background-color: #E2EBFA;\n",
              "      box-shadow: 0px 1px 2px rgba(60, 64, 67, 0.3), 0px 1px 3px 1px rgba(60, 64, 67, 0.15);\n",
              "      fill: #174EA6;\n",
              "    }\n",
              "\n",
              "    [theme=dark] .colab-df-convert {\n",
              "      background-color: #3B4455;\n",
              "      fill: #D2E3FC;\n",
              "    }\n",
              "\n",
              "    [theme=dark] .colab-df-convert:hover {\n",
              "      background-color: #434B5C;\n",
              "      box-shadow: 0px 1px 3px 1px rgba(0, 0, 0, 0.15);\n",
              "      filter: drop-shadow(0px 1px 2px rgba(0, 0, 0, 0.3));\n",
              "      fill: #FFFFFF;\n",
              "    }\n",
              "  </style>\n",
              "\n",
              "      <script>\n",
              "        const buttonEl =\n",
              "          document.querySelector('#df-54739873-4c08-46cb-b375-5064b722a032 button.colab-df-convert');\n",
              "        buttonEl.style.display =\n",
              "          google.colab.kernel.accessAllowed ? 'block' : 'none';\n",
              "\n",
              "        async function convertToInteractive(key) {\n",
              "          const element = document.querySelector('#df-54739873-4c08-46cb-b375-5064b722a032');\n",
              "          const dataTable =\n",
              "            await google.colab.kernel.invokeFunction('convertToInteractive',\n",
              "                                                     [key], {});\n",
              "          if (!dataTable) return;\n",
              "\n",
              "          const docLinkHtml = 'Like what you see? Visit the ' +\n",
              "            '<a target=\"_blank\" href=https://colab.research.google.com/notebooks/data_table.ipynb>data table notebook</a>'\n",
              "            + ' to learn more about interactive tables.';\n",
              "          element.innerHTML = '';\n",
              "          dataTable['output_type'] = 'display_data';\n",
              "          await google.colab.output.renderOutput(dataTable, element);\n",
              "          const docLink = document.createElement('div');\n",
              "          docLink.innerHTML = docLinkHtml;\n",
              "          element.appendChild(docLink);\n",
              "        }\n",
              "      </script>\n",
              "    </div>\n",
              "  </div>\n",
              "  "
            ]
          },
          "metadata": {},
          "execution_count": 130
        }
      ]
    },
    {
      "cell_type": "markdown",
      "source": [
        "## NLTK sentiment analyzer"
      ],
      "metadata": {
        "id": "ZOiV4tPwIEyp"
      }
    },
    {
      "cell_type": "code",
      "source": [
        "# initialize NLTK sentiment analyzer\n",
        "\n",
        "analyzer = SentimentIntensityAnalyzer()\n",
        "\n",
        "\n",
        "# create get_sentiment function\n",
        "\n",
        "def get_sentiment(text):\n",
        "\n",
        "    scores = analyzer.polarity_scores(text)\n",
        "    if scores['compound'] >= 0.05:\n",
        "      sentiment = 1\n",
        "    elif scores['compound'] <= -0.05:\n",
        "      sentiment = -1\n",
        "    else:\n",
        "      sentiment = 0\n",
        "\n",
        "    return sentiment\n",
        "\n",
        "def get_sentiment_new(text):\n",
        "\n",
        "    scores = analyzer.polarity_scores(text)\n",
        "    if scores['pos'] == scores['neg']:\n",
        "      senti = 0\n",
        "    if scores['pos'] >= max(scores['neg'], scores['neu']):\n",
        "      senti = 1\n",
        "    elif scores['neg'] >= max(scores['pos'], scores['neu']):\n",
        "      senti = -1\n",
        "    elif scores['neu'] > max(scores['pos'], scores['neg']):\n",
        "      senti = 0\n",
        "\n",
        "\n",
        "    return senti\n",
        "\n",
        "\n",
        "def get_sentiment_score(text):\n",
        "\n",
        "    scores = analyzer.polarity_scores(text)\n",
        "\n",
        "    return scores"
      ],
      "metadata": {
        "id": "O3fTdiGWHbnx"
      },
      "execution_count": 47,
      "outputs": []
    },
    {
      "cell_type": "code",
      "source": [
        "# apply get_sentiment function\n",
        "\n",
        "df_docs['nltk'] = df_docs['text'].apply(get_sentiment) # 0,-1,1\n",
        "nltk_senti = df_docs['text'].apply(get_sentiment_score)"
      ],
      "metadata": {
        "id": "c9dihB328XhB"
      },
      "execution_count": 131,
      "outputs": []
    },
    {
      "cell_type": "code",
      "source": [
        "df_docs['nltk_max'] = df_docs['text'].apply(get_sentiment_new)"
      ],
      "metadata": {
        "id": "vG0C6nwU3XXk"
      },
      "execution_count": 132,
      "outputs": []
    },
    {
      "cell_type": "code",
      "source": [
        "list_nltk_score = []\n",
        "for i in range(len(nltk_senti)):\n",
        "  list_nltk_score.append(nltk_senti[i]['compound'])\n",
        "# list_nltk_score"
      ],
      "metadata": {
        "id": "N3ZAwC32kGqN"
      },
      "execution_count": 133,
      "outputs": []
    },
    {
      "cell_type": "code",
      "source": [
        "t = 603\n",
        "nltk_senti[t], list_nltk_score[t], df_docs['nltk'][t]"
      ],
      "metadata": {
        "colab": {
          "base_uri": "https://localhost:8080/"
        },
        "id": "PBbUwV5Sr5oA",
        "outputId": "851f1dfd-5662-473d-e27b-a3036c13e848"
      },
      "execution_count": 57,
      "outputs": [
        {
          "output_type": "execute_result",
          "data": {
            "text/plain": [
              "({'neg': 0.0, 'neu': 1.0, 'pos': 0.0, 'compound': 0.0}, 0.0, 0)"
            ]
          },
          "metadata": {},
          "execution_count": 57
        }
      ]
    },
    {
      "cell_type": "markdown",
      "source": [
        "## transformers-pipline\n",
        "\n"
      ],
      "metadata": {
        "id": "wvV3wevKIWS5"
      }
    },
    {
      "cell_type": "code",
      "source": [
        "from transformers import pipeline\n",
        "nlp = pipeline(\"sentiment-analysis\")"
      ],
      "metadata": {
        "colab": {
          "base_uri": "https://localhost:8080/"
        },
        "id": "E06S-GHT-24x",
        "outputId": "92fd71a7-3b67-4378-9829-b8d28d911c37"
      },
      "execution_count": 21,
      "outputs": [
        {
          "output_type": "stream",
          "name": "stderr",
          "text": [
            "No model was supplied, defaulted to distilbert-base-uncased-finetuned-sst-2-english and revision af0f99b (https://huggingface.co/distilbert-base-uncased-finetuned-sst-2-english).\n",
            "Using a pipeline without specifying a model name and revision in production is not recommended.\n",
            "Xformers is not installed correctly. If you want to use memorry_efficient_attention to accelerate training use the following command to install Xformers\n",
            "pip install xformers.\n"
          ]
        }
      ]
    },
    {
      "cell_type": "code",
      "source": [
        "# sample\n",
        "result = nlp([\"I hate you\", 'I love you'])\n",
        "print(result)"
      ],
      "metadata": {
        "colab": {
          "base_uri": "https://localhost:8080/"
        },
        "id": "xMSKGjlL_-KG",
        "outputId": "a9099c8b-115b-4652-ddb9-e553f94be8ff"
      },
      "execution_count": 29,
      "outputs": [
        {
          "output_type": "stream",
          "name": "stdout",
          "text": [
            "[{'label': 'NEGATIVE', 'score': 0.9991129040718079}, {'label': 'POSITIVE', 'score': 0.9998656511306763}]\n"
          ]
        }
      ]
    },
    {
      "cell_type": "code",
      "source": [
        "# apply get_sentiment function\n",
        "senti_pip_lab = []\n",
        "senti_pip_score = []\n",
        "for sen in range(len(df_docs['text'])):\n",
        "  resulit = nlp(df_docs['text'][sen])\n",
        "  senti_pip_score.append(nlp(df_docs['text'][sen])[0]['score'])\n",
        "  if nlp(df_docs['text'][sen])[0]['label'] == 'POSITIVE':\n",
        "    senti_pip_lab.append(1)\n",
        "  elif nlp(df_docs['text'][sen])[0]['label'] == 'NEGATIVE':\n",
        "    senti_pip_lab.append(0)"
      ],
      "metadata": {
        "id": "pw_sd40GAZeS"
      },
      "execution_count": 134,
      "outputs": []
    },
    {
      "cell_type": "code",
      "source": [
        "df_docs['senti_pip_lab'] = senti_pip_lab\n",
        "df_docs['senti_pip_score'] = senti_pip_score"
      ],
      "metadata": {
        "id": "4YXKgm6yBueE"
      },
      "execution_count": 135,
      "outputs": []
    },
    {
      "cell_type": "code",
      "source": [
        "#Get top most negative 50 sentences \n",
        "df = df_docs.loc[df_docs['senti_pip_lab'] == 1].sort_values(by='senti_pip_score', ascending=True )[:50]\n",
        "df.head(10)"
      ],
      "metadata": {
        "colab": {
          "base_uri": "https://localhost:8080/",
          "height": 363
        },
        "id": "V3Fvc6Iy_3ey",
        "outputId": "73bf1081-fd89-41a1-e74c-94b4566c6f24"
      },
      "execution_count": 136,
      "outputs": [
        {
          "output_type": "execute_result",
          "data": {
            "text/plain": [
              "                                                  text  nltk  nltk_max  \\\n",
              "586  eye see important. ’ ‘ eye see important , ’ l...     1         0   \n",
              "740                          never told story anyone .     0         0   \n",
              "363     ‘ star ? ’ ‘ oversee , ’ replied businessman .     0         0   \n",
              "235              volcanic eruption like fire chimney .     0         0   \n",
              "636  song pulley still ear , could see trembling re...    -1         0   \n",
              "486                                ‘ think six seven .     0         0   \n",
              "617     ’ think anyone ever known find , even looked .     0         0   \n",
              "350       little golden object cause people daydream .     0         0   \n",
              "390             would put lamp morning light evening .     0         0   \n",
              "593  child press face windows. ’ ‘ child know looki...     0         0   \n",
              "\n",
              "     senti_pip_lab  senti_pip_score  \n",
              "586              1         0.517398  \n",
              "740              1         0.522650  \n",
              "363              1         0.545930  \n",
              "235              1         0.555050  \n",
              "636              1         0.557528  \n",
              "486              1         0.560618  \n",
              "617              1         0.562081  \n",
              "350              1         0.565026  \n",
              "390              1         0.565214  \n",
              "593              1         0.566438  "
            ],
            "text/html": [
              "\n",
              "  <div id=\"df-82b9e5f4-18a5-44c7-8842-4ef71f5ac5d7\">\n",
              "    <div class=\"colab-df-container\">\n",
              "      <div>\n",
              "<style scoped>\n",
              "    .dataframe tbody tr th:only-of-type {\n",
              "        vertical-align: middle;\n",
              "    }\n",
              "\n",
              "    .dataframe tbody tr th {\n",
              "        vertical-align: top;\n",
              "    }\n",
              "\n",
              "    .dataframe thead th {\n",
              "        text-align: right;\n",
              "    }\n",
              "</style>\n",
              "<table border=\"1\" class=\"dataframe\">\n",
              "  <thead>\n",
              "    <tr style=\"text-align: right;\">\n",
              "      <th></th>\n",
              "      <th>text</th>\n",
              "      <th>nltk</th>\n",
              "      <th>nltk_max</th>\n",
              "      <th>senti_pip_lab</th>\n",
              "      <th>senti_pip_score</th>\n",
              "    </tr>\n",
              "  </thead>\n",
              "  <tbody>\n",
              "    <tr>\n",
              "      <th>586</th>\n",
              "      <td>eye see important. ’ ‘ eye see important , ’ l...</td>\n",
              "      <td>1</td>\n",
              "      <td>0</td>\n",
              "      <td>1</td>\n",
              "      <td>0.517398</td>\n",
              "    </tr>\n",
              "    <tr>\n",
              "      <th>740</th>\n",
              "      <td>never told story anyone .</td>\n",
              "      <td>0</td>\n",
              "      <td>0</td>\n",
              "      <td>1</td>\n",
              "      <td>0.522650</td>\n",
              "    </tr>\n",
              "    <tr>\n",
              "      <th>363</th>\n",
              "      <td>‘ star ? ’ ‘ oversee , ’ replied businessman .</td>\n",
              "      <td>0</td>\n",
              "      <td>0</td>\n",
              "      <td>1</td>\n",
              "      <td>0.545930</td>\n",
              "    </tr>\n",
              "    <tr>\n",
              "      <th>235</th>\n",
              "      <td>volcanic eruption like fire chimney .</td>\n",
              "      <td>0</td>\n",
              "      <td>0</td>\n",
              "      <td>1</td>\n",
              "      <td>0.555050</td>\n",
              "    </tr>\n",
              "    <tr>\n",
              "      <th>636</th>\n",
              "      <td>song pulley still ear , could see trembling re...</td>\n",
              "      <td>-1</td>\n",
              "      <td>0</td>\n",
              "      <td>1</td>\n",
              "      <td>0.557528</td>\n",
              "    </tr>\n",
              "    <tr>\n",
              "      <th>486</th>\n",
              "      <td>‘ think six seven .</td>\n",
              "      <td>0</td>\n",
              "      <td>0</td>\n",
              "      <td>1</td>\n",
              "      <td>0.560618</td>\n",
              "    </tr>\n",
              "    <tr>\n",
              "      <th>617</th>\n",
              "      <td>’ think anyone ever known find , even looked .</td>\n",
              "      <td>0</td>\n",
              "      <td>0</td>\n",
              "      <td>1</td>\n",
              "      <td>0.562081</td>\n",
              "    </tr>\n",
              "    <tr>\n",
              "      <th>350</th>\n",
              "      <td>little golden object cause people daydream .</td>\n",
              "      <td>0</td>\n",
              "      <td>0</td>\n",
              "      <td>1</td>\n",
              "      <td>0.565026</td>\n",
              "    </tr>\n",
              "    <tr>\n",
              "      <th>390</th>\n",
              "      <td>would put lamp morning light evening .</td>\n",
              "      <td>0</td>\n",
              "      <td>0</td>\n",
              "      <td>1</td>\n",
              "      <td>0.565214</td>\n",
              "    </tr>\n",
              "    <tr>\n",
              "      <th>593</th>\n",
              "      <td>child press face windows. ’ ‘ child know looki...</td>\n",
              "      <td>0</td>\n",
              "      <td>0</td>\n",
              "      <td>1</td>\n",
              "      <td>0.566438</td>\n",
              "    </tr>\n",
              "  </tbody>\n",
              "</table>\n",
              "</div>\n",
              "      <button class=\"colab-df-convert\" onclick=\"convertToInteractive('df-82b9e5f4-18a5-44c7-8842-4ef71f5ac5d7')\"\n",
              "              title=\"Convert this dataframe to an interactive table.\"\n",
              "              style=\"display:none;\">\n",
              "        \n",
              "  <svg xmlns=\"http://www.w3.org/2000/svg\" height=\"24px\"viewBox=\"0 0 24 24\"\n",
              "       width=\"24px\">\n",
              "    <path d=\"M0 0h24v24H0V0z\" fill=\"none\"/>\n",
              "    <path d=\"M18.56 5.44l.94 2.06.94-2.06 2.06-.94-2.06-.94-.94-2.06-.94 2.06-2.06.94zm-11 1L8.5 8.5l.94-2.06 2.06-.94-2.06-.94L8.5 2.5l-.94 2.06-2.06.94zm10 10l.94 2.06.94-2.06 2.06-.94-2.06-.94-.94-2.06-.94 2.06-2.06.94z\"/><path d=\"M17.41 7.96l-1.37-1.37c-.4-.4-.92-.59-1.43-.59-.52 0-1.04.2-1.43.59L10.3 9.45l-7.72 7.72c-.78.78-.78 2.05 0 2.83L4 21.41c.39.39.9.59 1.41.59.51 0 1.02-.2 1.41-.59l7.78-7.78 2.81-2.81c.8-.78.8-2.07 0-2.86zM5.41 20L4 18.59l7.72-7.72 1.47 1.35L5.41 20z\"/>\n",
              "  </svg>\n",
              "      </button>\n",
              "      \n",
              "  <style>\n",
              "    .colab-df-container {\n",
              "      display:flex;\n",
              "      flex-wrap:wrap;\n",
              "      gap: 12px;\n",
              "    }\n",
              "\n",
              "    .colab-df-convert {\n",
              "      background-color: #E8F0FE;\n",
              "      border: none;\n",
              "      border-radius: 50%;\n",
              "      cursor: pointer;\n",
              "      display: none;\n",
              "      fill: #1967D2;\n",
              "      height: 32px;\n",
              "      padding: 0 0 0 0;\n",
              "      width: 32px;\n",
              "    }\n",
              "\n",
              "    .colab-df-convert:hover {\n",
              "      background-color: #E2EBFA;\n",
              "      box-shadow: 0px 1px 2px rgba(60, 64, 67, 0.3), 0px 1px 3px 1px rgba(60, 64, 67, 0.15);\n",
              "      fill: #174EA6;\n",
              "    }\n",
              "\n",
              "    [theme=dark] .colab-df-convert {\n",
              "      background-color: #3B4455;\n",
              "      fill: #D2E3FC;\n",
              "    }\n",
              "\n",
              "    [theme=dark] .colab-df-convert:hover {\n",
              "      background-color: #434B5C;\n",
              "      box-shadow: 0px 1px 3px 1px rgba(0, 0, 0, 0.15);\n",
              "      filter: drop-shadow(0px 1px 2px rgba(0, 0, 0, 0.3));\n",
              "      fill: #FFFFFF;\n",
              "    }\n",
              "  </style>\n",
              "\n",
              "      <script>\n",
              "        const buttonEl =\n",
              "          document.querySelector('#df-82b9e5f4-18a5-44c7-8842-4ef71f5ac5d7 button.colab-df-convert');\n",
              "        buttonEl.style.display =\n",
              "          google.colab.kernel.accessAllowed ? 'block' : 'none';\n",
              "\n",
              "        async function convertToInteractive(key) {\n",
              "          const element = document.querySelector('#df-82b9e5f4-18a5-44c7-8842-4ef71f5ac5d7');\n",
              "          const dataTable =\n",
              "            await google.colab.kernel.invokeFunction('convertToInteractive',\n",
              "                                                     [key], {});\n",
              "          if (!dataTable) return;\n",
              "\n",
              "          const docLinkHtml = 'Like what you see? Visit the ' +\n",
              "            '<a target=\"_blank\" href=https://colab.research.google.com/notebooks/data_table.ipynb>data table notebook</a>'\n",
              "            + ' to learn more about interactive tables.';\n",
              "          element.innerHTML = '';\n",
              "          dataTable['output_type'] = 'display_data';\n",
              "          await google.colab.output.renderOutput(dataTable, element);\n",
              "          const docLink = document.createElement('div');\n",
              "          docLink.innerHTML = docLinkHtml;\n",
              "          element.appendChild(docLink);\n",
              "        }\n",
              "      </script>\n",
              "    </div>\n",
              "  </div>\n",
              "  "
            ]
          },
          "metadata": {},
          "execution_count": 136
        }
      ]
    },
    {
      "cell_type": "code",
      "source": [
        "import numpy as np\n",
        "pip_senti = []\n",
        "new_list_senti_score = [] # pip\n",
        "nltk_senti_lab = []\n",
        "# nltk_score = []\n",
        "\n",
        "for i in range(len(senti_pip_lab)):\n",
        "  if senti_pip_lab[i] == 0:\n",
        "    new_list_senti_score.append(-1*senti_pip_score[i])\n",
        "    pip_senti.append(-1)\n",
        "  else:\n",
        "    new_list_senti_score.append(senti_pip_score[i])\n",
        "    pip_senti.append(1)\n",
        "\n",
        "  nltk_senti_lab.append(df_docs['nltk'][i])\n",
        "  # nltk_score.append(list_nltk_score[i])\n",
        "\n"
      ],
      "metadata": {
        "id": "Dd2zV0heDvbW"
      },
      "execution_count": 137,
      "outputs": []
    },
    {
      "cell_type": "code",
      "source": [
        "nltk_max_lab = list(df_docs['nltk_max'])"
      ],
      "metadata": {
        "id": "YvZIdmfc4pEl"
      },
      "execution_count": 138,
      "outputs": []
    },
    {
      "cell_type": "code",
      "source": [
        "sum_senti_pip = np.cumsum(pip_senti)\n",
        "sum_senti_pip_score = np.cumsum(new_list_senti_score)\n",
        "\n",
        "sum_senti_nltk = np.cumsum(nltk_senti_lab)\n",
        "sum_senti_nltk_score = np.cumsum(list_nltk_score)"
      ],
      "metadata": {
        "id": "Sx5ObCsJD3rF"
      },
      "execution_count": 139,
      "outputs": []
    },
    {
      "cell_type": "code",
      "source": [
        "sum_nltk_max_lab = np.cumsum(nltk_max_lab)"
      ],
      "metadata": {
        "id": "w9ekDtwQ4qMj"
      },
      "execution_count": 140,
      "outputs": []
    },
    {
      "cell_type": "code",
      "source": [
        "len(sum_senti_nltk)"
      ],
      "metadata": {
        "colab": {
          "base_uri": "https://localhost:8080/"
        },
        "id": "S58IX1wPrtRz",
        "outputId": "0d90af14-f356-44c9-d98c-377f572204a0"
      },
      "execution_count": 161,
      "outputs": [
        {
          "output_type": "execute_result",
          "data": {
            "text/plain": [
              "761"
            ]
          },
          "metadata": {},
          "execution_count": 161
        }
      ]
    },
    {
      "cell_type": "code",
      "source": [
        "import matplotlib\n",
        "import matplotlib.pyplot as plt\n",
        "plt.plot(sum_senti_nltk, label='NLTK')\n",
        "plt.plot(sum_senti_nltk_score, label='NLTK-Score')\n",
        "plt.plot(sum_senti_pip, label='Pipline')\n",
        "plt.plot(sum_senti_pip_score, label='Pipline-Score') #pip\n",
        "plt.plot(sum_nltk_max_lab, label='NLTK-max')\n",
        "plt.xlabel('Number of sentences')\n",
        "plt.ylabel('Accumulated value of the sentiment')\n",
        "plt.legend()"
      ],
      "metadata": {
        "colab": {
          "base_uri": "https://localhost:8080/",
          "height": 466
        },
        "id": "DLl4tSPaE9_h",
        "outputId": "a0638e49-0c08-4a63-8269-3360941b4d32"
      },
      "execution_count": 141,
      "outputs": [
        {
          "output_type": "execute_result",
          "data": {
            "text/plain": [
              "<matplotlib.legend.Legend at 0x7f3dafb5e590>"
            ]
          },
          "metadata": {},
          "execution_count": 141
        },
        {
          "output_type": "display_data",
          "data": {
            "text/plain": [
              "<Figure size 640x480 with 1 Axes>"
            ],
            "image/png": "[encoded data removed]"
          },
          "metadata": {}
        }
      ]
    },
    {
      "cell_type": "markdown",
      "source": [
        "## Sentiment Analysis according to the chapter\n",
        "\n",
        "+ characters in each chapter"
      ],
      "metadata": {
        "id": "yHiqrMq2OpeU"
      }
    },
    {
      "cell_type": "code",
      "source": [
        "file = 'The Little Prince.txt'\n",
        "docs = []\n",
        "last = 0\n",
        "with open(file, \"r\", encoding=\"utf-8\") as file1:\n",
        "    FileContent = file1.read()\n",
        "    FileContent = FileContent.lower() # lowercase\n",
        "    for i in range(len(FileContent)):\n",
        "      if FileContent[i] == 'c' and FileContent[i+1] == 'h' and FileContent[i+2] == 'a' and FileContent[i+3] == 'p'\\\n",
        "      and FileContent[i+4] == 't':\n",
        "        docs.append(preprocess_text(FileContent[last-1:i])) \n",
        "        last = i+1"
      ],
      "metadata": {
        "id": "_zMAf-RIE8Ny"
      },
      "execution_count": 187,
      "outputs": []
    },
    {
      "cell_type": "code",
      "source": [
        "senti_lab_record = {}\n",
        "senti_score_record = {}\n",
        "for i in range(1,len(docs)):\n",
        "  cha_now = docs[i]\n",
        "  \n",
        "  cha_list = []\n",
        "  last = 0\n",
        "  for sen in range(len(cha_now)-1):\n",
        "    if cha_now[sen] == ',' and cha_now[sen+1] == ' ':\n",
        "      cha_list.append(preprocess_text(cha_now[last : sen+1])) \n",
        "      last = sen + 1\n",
        "\n",
        "  senti_lab = []\n",
        "  senti_score = []\n",
        "\n",
        "  result = nlp(cha_list)\n",
        "  for item in result:\n",
        "    if item['label'] == 'NEGATIVE':\n",
        "      senti_lab.append(-1)\n",
        "      senti_score.append(-1*item['score'])\n",
        "    else:\n",
        "      senti_lab.append(1)\n",
        "      senti_score.append(item['score'])\n",
        "\n",
        "  senti_lab_record[i] = senti_lab\n",
        "  senti_score_record[i] = senti_score"
      ],
      "metadata": {
        "id": "gxKIAcMIF5CU"
      },
      "execution_count": 196,
      "outputs": []
    },
    {
      "cell_type": "code",
      "source": [
        "cum_senti_score_record = {}\n",
        "cum_senti_lab_record = {}\n",
        "for i in senti_score_record.keys():\n",
        "  cum_senti_score_record[i] = np.cumsum(senti_score_record[i])\n",
        "  cum_senti_lab_record[i] = np.cumsum(senti_lab_record[i])\n"
      ],
      "metadata": {
        "id": "tVyGlzebJuyG"
      },
      "execution_count": 198,
      "outputs": []
    },
    {
      "cell_type": "code",
      "source": [
        "!pip install matplotlib.colors"
      ],
      "metadata": {
        "id": "FFpepgCAPDCb"
      },
      "execution_count": null,
      "outputs": []
    },
    {
      "cell_type": "code",
      "source": [
        "from random import choice\n",
        "import matplotlib.colors as mcolors\n",
        "\n",
        "colours = mcolors._colors_full_map # This is a dictionary of all named colours\n",
        "# Turn the dictionary into a list\n",
        "color_lst = list(colours.values()) \n",
        "\n",
        "plt.figure(figsize=(10,6))\n",
        "count = 0 \n",
        "for i in range(1, len(cum_senti_lab_record)+1):\n",
        "  my_list = [i for i in range(count, count + len(cum_senti_lab_record[i]))]\n",
        "  plt.plot(my_list, list(cum_senti_lab_record[i]), label=str(i), color=color_lst[2*i+1])\n",
        "  count += len(cum_senti_lab_record[i])\n",
        "plt.legend(loc='center left', bbox_to_anchor=(1, 0.5))"
      ],
      "metadata": {
        "colab": {
          "base_uri": "https://localhost:8080/",
          "height": 602
        },
        "id": "cCESw_XPKdJT",
        "outputId": "ceaf6439-2618-4282-cb86-c8b6055155db"
      },
      "execution_count": 207,
      "outputs": [
        {
          "output_type": "execute_result",
          "data": {
            "text/plain": [
              "<matplotlib.legend.Legend at 0x7f3da0d61ab0>"
            ]
          },
          "metadata": {},
          "execution_count": 207
        },
        {
          "output_type": "display_data",
          "data": {
            "text/plain": [
              "<Figure size 1000x600 with 1 Axes>"
            ],
            "image/png": "[encoded data removed]"
          },
          "metadata": {}
        }
      ]
    }
  ]
}